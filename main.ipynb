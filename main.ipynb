{
 "cells": [
  {
   "cell_type": "code",
   "execution_count": null,
   "metadata": {},
   "outputs": [],
   "source": [
    "from get_data import *\n",
    "from learn import *\n",
    "from tuning import *\n",
    "from analysis import *\n",
    "from binance.client import Client\n",
    "import numpy as np\n",
    "from sklearn.decomposition import PCA\n",
    "import plotly.express as px\n",
    "import pandas as pd\n",
    "from backtesting import Backtest\n",
    "pd.options.mode.chained_assignment = None  # default='warn'"
   ]
  },
  {
   "cell_type": "markdown",
   "metadata": {},
   "source": [
    "### Get data"
   ]
  },
  {
   "cell_type": "code",
   "execution_count": null,
   "metadata": {},
   "outputs": [],
   "source": [
    "\n",
    "\n",
    "kline = get_klines(Client.KLINE_INTERVAL_4HOUR,'2019-01-01','2022-12-02')\n",
    "OHLC = get_OHLC(kline)\n",
    "tech_index = get_tech(OHLC,period=14)\n",
    "OHLC_label = get_label(OHLC)\n",
    "feature_idx = get_features(tech_index)\n",
    "\n",
    "\n",
    "OHLC_hasFeature = OHLC_label.label_2[OHLC_label.index.isin(feature_idx.index)].shift(-1)\n",
    "OHLC_hasFeature = OHLC_hasFeature[1:-6]\n",
    "\n",
    "feature_idx_sel = feature_idx.shift(periods=1)[1:-6]\n",
    "feature_cnt = feature_idx_sel.apply(pd.Series.value_counts)\n",
    "print(\"feature:\")\n",
    "print(feature_cnt)\n",
    "splitpoint=  OHLC_hasFeature.index.get_loc('2021-10-01 00:00:00')\n",
    "\n",
    "# indicator\n",
    "X_train = feature_idx_sel[:splitpoint].to_numpy()\n",
    "y_train = OHLC_hasFeature[:splitpoint].to_numpy()\n",
    "X_test = feature_idx_sel[splitpoint:].to_numpy()\n",
    "y_test = OHLC_hasFeature[splitpoint:].to_numpy()\n",
    "\n",
    "# return\n",
    "OHLC_return = OHLC_label['return'][:-6].to_numpy()\n",
    "OHLC_window = np.zeros((len(OHLC_return)-15,14))\n",
    "for i in range(15,len(OHLC_return)):\n",
    "    OHLC_window[i-15] = OHLC_return[i-15:i-1]    \n",
    "OHLC_window = OHLC_window[22:]\n",
    "OHLC_return_train = OHLC_window[:splitpoint]\n",
    "OHLC_return_test = OHLC_window[splitpoint:]\n",
    "method_name,method,method_tuning=tuning()\n",
    "\n",
    "#backtesting\n",
    "OHLC_selected = OHLC_label[OHLC_label.index.isin(OHLC_hasFeature.index)]\n",
    "OHLC_backtesting = OHLC_selected[['Open','High','Low','Close','Volume']][splitpoint-2:]\n",
    "feature_test = feature_idx_sel[splitpoint:]\n",
    "OHLC_backtesting.index = pd.DatetimeIndex(OHLC_backtesting.index)"
   ]
  },
  {
   "cell_type": "markdown",
   "metadata": {},
   "source": [
    "### PCA"
   ]
  },
  {
   "cell_type": "code",
   "execution_count": null,
   "metadata": {},
   "outputs": [],
   "source": [
    "pca_df = copy.deepcopy(feature_idx_sel)\n",
    "pca_df[\"label\"] = OHLC_hasFeature\n",
    "n_components=4\n",
    "pca = PCA(n_components = n_components)\n",
    "components = pca.fit_transform(feature_idx_sel)\n",
    "labels = {\n",
    "    str(i): f\"PC{i+1}\"\n",
    "    for i, var in enumerate(pca.explained_variance_ratio_ * 100)\n",
    "}\n",
    "total_var = pca.explained_variance_ratio_.sum() * 100\n",
    "fig = px.scatter_matrix(\n",
    "    components,\n",
    "    labels=labels,\n",
    "    dimensions=range(n_components),\n",
    "    color=pca_df.label,\n",
    "    title=f'Total Explained Variance: {total_var:.2f}%',\n",
    ")\n",
    "fig.update_traces(diagonal_visible=False)\n",
    "fig.show()\n"
   ]
  },
  {
   "cell_type": "markdown",
   "metadata": {},
   "source": [
    "### Confusion Matrix"
   ]
  },
  {
   "cell_type": "code",
   "execution_count": null,
   "metadata": {},
   "outputs": [],
   "source": [
    "basic, score = confusion(OHLC_hasFeature,feature_idx_sel,splitpoint,display=False)\n",
    "basic"
   ]
  },
  {
   "cell_type": "code",
   "execution_count": null,
   "metadata": {},
   "outputs": [],
   "source": [
    "score"
   ]
  },
  {
   "cell_type": "markdown",
   "metadata": {},
   "source": [
    "### train: return"
   ]
  },
  {
   "cell_type": "code",
   "execution_count": null,
   "metadata": {},
   "outputs": [],
   "source": [
    "return_result = training(OHLC_return_train,OHLC_return_test,y_train,y_test,\n",
    "                method,method_name)\n",
    "print(\"return: without tuning\")\n",
    "return_result"
   ]
  },
  {
   "cell_type": "code",
   "execution_count": null,
   "metadata": {},
   "outputs": [],
   "source": [
    "return_result_tuning = training(OHLC_return_train,OHLC_return_test,y_train,y_test,\n",
    "                method_tuning,method_name)\n",
    "print(\"return: with tuning\")\n",
    "return_result_tuning"
   ]
  },
  {
   "cell_type": "markdown",
   "metadata": {},
   "source": [
    "### train: indicator"
   ]
  },
  {
   "cell_type": "code",
   "execution_count": null,
   "metadata": {},
   "outputs": [],
   "source": [
    "idc_result = training(X_train,X_test,y_train,y_test,\n",
    "                method,method_name)\n",
    "print(\"indicator: without tuning\")\n",
    "idc_result"
   ]
  },
  {
   "cell_type": "code",
   "execution_count": null,
   "metadata": {},
   "outputs": [],
   "source": [
    "idc_result_tuning = training(X_train,X_test,y_train,y_test,\n",
    "                method_tuning,method_name)\n",
    "print(\"indicator: with tuning\")\n",
    "idc_result_tuning"
   ]
  },
  {
   "cell_type": "markdown",
   "metadata": {},
   "source": [
    "### backtesting"
   ]
  },
  {
   "cell_type": "code",
   "execution_count": null,
   "metadata": {},
   "outputs": [],
   "source": [
    "# SMA Cross\n",
    "test = Backtest(OHLC_backtesting, SmaCross, cash=100000, commission=0.001,trade_on_close=False)\n",
    "result = test.run()  \n",
    "#test.plot(filename=f\"./backtest_SMAcross.html\")\n",
    "result"
   ]
  },
  {
   "cell_type": "code",
   "execution_count": null,
   "metadata": {},
   "outputs": [],
   "source": [
    "# single indicator\n",
    "backtest_single_indicator = batch_test_idc(OHLC_backtesting,feature_test,y_test,name=\"./backtest_tech.html\")\n",
    "print(\"backtesting: single indicator\")\n",
    "backtest_single_indicator"
   ]
  },
  {
   "cell_type": "code",
   "execution_count": null,
   "metadata": {},
   "outputs": [],
   "source": [
    "#return: without tuning\n",
    "backtest_return_result=batch_test_learn(OHLC_backtesting,OHLC_return_train,OHLC_return_test\n",
    "                                        ,y_train,y_test,method,method_name,name=\"./backtest_Return.html\")\n",
    "print(\"backtesting: return (no tuning)\")\n",
    "backtest_return_result"
   ]
  },
  {
   "cell_type": "code",
   "execution_count": null,
   "metadata": {},
   "outputs": [],
   "source": [
    "#return: tuning\n",
    "backtest_return_result_tuning=batch_test_learn(OHLC_backtesting,OHLC_return_train,OHLC_return_test\n",
    "                                        ,y_train,y_test,method_tuning,method_name,name=\"./backtest_Return.html\")\n",
    "print(\"backtesting: return (with tuning)\")\n",
    "backtest_return_result_tuning"
   ]
  },
  {
   "cell_type": "code",
   "execution_count": null,
   "metadata": {},
   "outputs": [],
   "source": [
    "#indicator: without tuning\n",
    "backtest_indicator_result=batch_test_learn(OHLC_backtesting,X_train,X_test\n",
    "                                           ,y_train,y_test,method,method_name,name=\"./backtest_Indicator.html\")\n",
    "print(\"backtesting: return (no tuning)\")\n",
    "backtest_indicator_result"
   ]
  },
  {
   "cell_type": "code",
   "execution_count": null,
   "metadata": {},
   "outputs": [],
   "source": [
    "#indicator: tuning\n",
    "backtest_indicator_result_tuning=batch_test_learn(OHLC_backtesting,X_train,X_test\n",
    "                                        ,y_train,y_test,method_tuning,method_name,name=\"./backtest_Indicator.html\")\n",
    "print(\"backtesting: return (with tuning)\")\n",
    "backtest_indicator_result_tuning"
   ]
  },
  {
   "cell_type": "code",
   "execution_count": null,
   "metadata": {},
   "outputs": [],
   "source": []
  }
 ],
 "metadata": {
  "kernelspec": {
   "display_name": "Python 3",
   "language": "python",
   "name": "python3"
  },
  "language_info": {
   "codemirror_mode": {
    "name": "ipython",
    "version": 3
   },
   "file_extension": ".py",
   "mimetype": "text/x-python",
   "name": "python",
   "nbconvert_exporter": "python",
   "pygments_lexer": "ipython3",
   "version": "3.8.5"
  },
  "toc": {
   "base_numbering": 1,
   "nav_menu": {},
   "number_sections": true,
   "sideBar": true,
   "skip_h1_title": false,
   "title_cell": "Table of Contents",
   "title_sidebar": "Contents",
   "toc_cell": false,
   "toc_position": {},
   "toc_section_display": true,
   "toc_window_display": false
  },
  "varInspector": {
   "cols": {
    "lenName": 16,
    "lenType": 16,
    "lenVar": 40
   },
   "kernels_config": {
    "python": {
     "delete_cmd_postfix": "",
     "delete_cmd_prefix": "del ",
     "library": "var_list.py",
     "varRefreshCmd": "print(var_dic_list())"
    },
    "r": {
     "delete_cmd_postfix": ") ",
     "delete_cmd_prefix": "rm(",
     "library": "var_list.r",
     "varRefreshCmd": "cat(var_dic_list()) "
    }
   },
   "types_to_exclude": [
    "module",
    "function",
    "builtin_function_or_method",
    "instance",
    "_Feature"
   ],
   "window_display": false
  },
  "vscode": {
   "interpreter": {
    "hash": "007f6f859a166a76e2fc3a8b67b9e6c0b620fa04a2775bf5d639a5757bfd2b96"
   }
  }
 },
 "nbformat": 4,
 "nbformat_minor": 2
}
